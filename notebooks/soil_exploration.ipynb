{
 "cells": [
  {
   "cell_type": "code",
   "execution_count": 3,
   "id": "c722e5c5",
   "metadata": {},
   "outputs": [
    {
     "ename": "ModuleNotFoundError",
     "evalue": "No module named 'src'",
     "output_type": "error",
     "traceback": [
      "\u001b[0;31m---------------------------------------------------------------------------\u001b[0m",
      "\u001b[0;31mModuleNotFoundError\u001b[0m                       Traceback (most recent call last)",
      "Cell \u001b[0;32mIn[3], line 6\u001b[0m\n\u001b[1;32m      3\u001b[0m \u001b[38;5;28;01mimport\u001b[39;00m \u001b[38;5;21;01mpandas\u001b[39;00m \u001b[38;5;28;01mas\u001b[39;00m \u001b[38;5;21;01mpd\u001b[39;00m\n\u001b[1;32m      4\u001b[0m \u001b[38;5;28;01mimport\u001b[39;00m \u001b[38;5;21;01mos\u001b[39;00m\n\u001b[0;32m----> 6\u001b[0m \u001b[38;5;28;01mfrom\u001b[39;00m \u001b[38;5;21;01msrc\u001b[39;00m\u001b[38;5;21;01m.\u001b[39;00m\u001b[38;5;21;01mcore\u001b[39;00m\u001b[38;5;21;01m.\u001b[39;00m\u001b[38;5;21;01mdata\u001b[39;00m \u001b[38;5;28;01mimport\u001b[39;00m load_from_kaggle\n",
      "\u001b[0;31mModuleNotFoundError\u001b[0m: No module named 'src'"
     ]
    }
   ],
   "source": [
    "import seaborn as sns\n",
    "import matplotlib.pyplot as plt\n",
    "import pandas as pd\n",
    "import os\n",
    "\n",
    "from src.core.data import load_from_kaggle"
   ]
  },
  {
   "cell_type": "code",
   "execution_count": null,
   "id": "0bceb20a",
   "metadata": {},
   "outputs": [],
   "source": [
    "dataset_link = \"cdminix/us-drought-meteorological-data\" # replace with your dataset link from Kaggle \n",
    "destination = \"../data/raw\"\n",
    "dataset_name = dataset_link.split(\"/\")[-1]\n",
    "\n",
    "soil_files = load_from_kaggle(\n",
    "    dataset_link=dataset_link, \n",
    "    destination=destination,\n",
    "    )"
   ]
  },
  {
   "cell_type": "code",
   "execution_count": null,
   "id": "581b3ddf",
   "metadata": {},
   "outputs": [],
   "source": [
    "df_soil = pd.read_csv(\"/\".join([\"../data/raw/\", dataset_name, soil_files[0]]))"
   ]
  },
  {
   "cell_type": "code",
   "execution_count": null,
   "id": "22210a2b",
   "metadata": {},
   "outputs": [],
   "source": [
    "print(df_soil.columns)\n",
    "print(df_soil.iloc[0])"
   ]
  },
  {
   "cell_type": "code",
   "execution_count": null,
   "id": "8d264acc",
   "metadata": {},
   "outputs": [],
   "source": [
    "display(\n",
    "    \"Shape\",\n",
    "    df_soil.shape,\n",
    "    \"Description\",\n",
    "    df_soil.describe().round(2),\n",
    "    \"Duplicates\",\n",
    "    df_soil.duplicated().sum(),\n",
    ")\n",
    "\n",
    "\n",
    "pd.DataFrame(\n",
    "    {\n",
    "        \"Data Types\": df_soil.dtypes,\n",
    "        \"Missing Values\": df_soil.isnull().sum(),\n",
    "        \"Unique Values\": df_soil.nunique(),\n",
    "        \"Sample Values\": [df_soil[col].sample(3).tolist() for col in df_soil.columns]\n",
    "    })\n"
   ]
  },
  {
   "cell_type": "code",
   "execution_count": null,
   "id": "e4d42451",
   "metadata": {},
   "outputs": [],
   "source": [
    "df_soil_qual = df_soil.loc[:, ['SQ' + str(i + 1) for i in range(7)]]\n",
    "df_soil_slope = df_soil.loc[:, ['slope' + str(i + 1) for i in range(8)]]\n",
    "fig, ax = plt.subplots(nrows = 2, figsize=(12, 10), dpi=200)\n",
    "sns.heatmap(df_soil_qual.corr(numeric_only=True), annot=True, cmap=\"coolwarm\", center=0, ax=ax[0])\n",
    "sns.heatmap(df_soil_slope.corr(numeric_only=True), annot=True, cmap=\"coolwarm\", center=0, ax=ax[1])\n"
   ]
  }
 ],
 "metadata": {
  "kernelspec": {
   "display_name": "Python 3 (ipykernel)",
   "language": "python",
   "name": "python3"
  },
  "language_info": {
   "codemirror_mode": {
    "name": "ipython",
    "version": 3
   },
   "file_extension": ".py",
   "mimetype": "text/x-python",
   "name": "python",
   "nbconvert_exporter": "python",
   "pygments_lexer": "ipython3",
   "version": "3.12.3"
  }
 },
 "nbformat": 4,
 "nbformat_minor": 5
}
